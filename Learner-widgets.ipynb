{
 "cells": [
  {
   "cell_type": "markdown",
   "metadata": {},
   "source": [
    "# Adaptive"
   ]
  },
  {
   "cell_type": "code",
   "execution_count": null,
   "metadata": {},
   "outputs": [],
   "source": [
    "import holoviews as hv\n",
    "hv.notebook_extension()"
   ]
  },
  {
   "cell_type": "code",
   "execution_count": null,
   "metadata": {},
   "outputs": [],
   "source": [
    "import numpy as np\n",
    "import learner1D\n",
    "import importlib\n",
    "importlib.reload(learner1D)\n",
    "\n",
    "def func(x):\n",
    "    \"\"\"Function with a sharp peak on a smooth background\"\"\"\n",
    "    x = np.asarray(x)\n",
    "    a = 0.01\n",
    "    return x + a**2/(a**2 + x**2)\n",
    "\n",
    "def plot(learner, nan_is_zero=False, interpolation=False):\n",
    "    if interpolation:\n",
    "        learner.interpolate()\n",
    "        d = learner.interp_data\n",
    "    else:\n",
    "        d = learner.data\n",
    "\n",
    "    xy = [(k, d[k]) for k in sorted(d)]\n",
    "    x, y  = np.array(xy, dtype=float).T\n",
    "\n",
    "    if nan_is_zero:\n",
    "        y = np.nan_to_num(y)\n",
    "    return hv.Scatter((x, y))"
   ]
  },
  {
   "cell_type": "markdown",
   "metadata": {},
   "source": [
    "# With direct results"
   ]
  },
  {
   "cell_type": "code",
   "execution_count": null,
   "metadata": {},
   "outputs": [],
   "source": [
    "hm = {}\n",
    "xs = np.linspace(-1, 1, 5)\n",
    "ys = func(xs)\n",
    "learner = learner1D.Learner1D(xs, ys)\n",
    "hm[0] = plot(learner)\n",
    "\n",
    "for i in range(1, 30):\n",
    "    xs = learner.choose_points(n=1, add_to_data=True)\n",
    "    ys = func(xs)\n",
    "    learner.add_data(xs, ys)\n",
    "    hm[i] = plot(learner, nan_is_zero=True)\n",
    "    \n",
    "hv.HoloMap(hm)"
   ]
  },
  {
   "cell_type": "markdown",
   "metadata": {},
   "source": [
    "# With `concurrent.futures`\n",
    "\n",
    "It's plotting the points without a result at zero"
   ]
  },
  {
   "cell_type": "code",
   "execution_count": null,
   "metadata": {},
   "outputs": [],
   "source": [
    "hm = {}\n",
    "xs = np.linspace(-1, 1, 5)\n",
    "ys = func(xs)\n",
    "learner = learner1D.Learner1D(xs, ys)\n",
    "hm[0] = plot(learner)\n",
    "\n",
    "for i in range(1, 20):\n",
    "    xs = learner.choose_points(n=1)\n",
    "    # Do not calculate ys here (as if it's a `concurrent.futures`)\n",
    "    hm[i] = plot(learner, interpolation=True)\n",
    "    \n",
    "hv.HoloMap(hm)"
   ]
  }
 ],
 "metadata": {
  "anaconda-cloud": {},
  "kernelspec": {
   "display_name": "Python [conda env:py36]",
   "language": "python",
   "name": "conda-env-py36-py"
  },
  "language_info": {
   "codemirror_mode": {
    "name": "ipython",
    "version": 3
   },
   "file_extension": ".py",
   "mimetype": "text/x-python",
   "name": "python",
   "nbconvert_exporter": "python",
   "pygments_lexer": "ipython3",
   "version": "3.6.0"
  }
 },
 "nbformat": 4,
 "nbformat_minor": 1
}
