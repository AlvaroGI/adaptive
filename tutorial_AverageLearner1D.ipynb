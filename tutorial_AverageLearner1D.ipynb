{
 "cells": [
  {
   "cell_type": "markdown",
   "metadata": {},
   "source": [
    "# Tutorial AverageLearner1D"
   ]
  },
  {
   "cell_type": "code",
   "execution_count": null,
   "metadata": {},
   "outputs": [],
   "source": [
    "import random\n",
    "from functools import partial\n",
    "\n",
    "# Import modules that are used in multiple cells\n",
    "import numpy as np\n",
    "\n",
    "import adaptive\n",
    "import tutorial_AverageLearner1D_aux as aux\n",
    "from adaptive.learner.learner1D import triangle_loss\n",
    "\n",
    "adaptive.notebook_extension()\n",
    "\n",
    "\n",
    "%config InlineBackend.figure_formats=set(['svg'])"
   ]
  },
  {
   "cell_type": "markdown",
   "metadata": {},
   "source": [
    "### Function"
   ]
  },
  {
   "cell_type": "markdown",
   "metadata": {},
   "source": [
    "First, we define the (noisy) function to be sampled. If one wants to use our plotting tools, the function needs at least two arguments: `x` (non-default argument) and `sigma` (default argument). The first one is the value of the independent variable. `sigma` is a parameter that measures the intensity of the noise, and it should have value $0$ when there is no noise (in our functions, `sigma` is generally the standard deviation of a Gaussian noise)."
   ]
  },
  {
   "cell_type": "code",
   "execution_count": null,
   "metadata": {},
   "outputs": [],
   "source": [
    "def my_fun(x, sigma=0, peak_width=0.05, offset=-0.5, wait=False):\n",
    "    from time import sleep\n",
    "    from random import random\n",
    "\n",
    "    if wait:\n",
    "        sleep(random())\n",
    "\n",
    "    fun = x ** 3 - x + 3 * peak_width ** 2 / (peak_width ** 2 + (x - offset) ** 2)\n",
    "    return fun + np.random.normal(0, sigma)\n",
    "\n",
    "\n",
    "bounds = [-2, 2]\n",
    "sigma = 2"
   ]
  },
  {
   "cell_type": "markdown",
   "metadata": {},
   "source": [
    "<br>\n",
    "&nbsp;\n",
    "This is how the function looks like without noise:"
   ]
  },
  {
   "cell_type": "code",
   "execution_count": null,
   "metadata": {},
   "outputs": [],
   "source": [
    "aux.plot_fun(partial(my_fun, sigma=0), bounds, N=400)"
   ]
  },
  {
   "cell_type": "markdown",
   "metadata": {},
   "source": [
    "<br>\n",
    "&nbsp;\n",
    "This is how it looks like with noise:"
   ]
  },
  {
   "cell_type": "code",
   "execution_count": null,
   "metadata": {},
   "outputs": [],
   "source": [
    "aux.plot_fun(partial(my_fun, sigma=sigma), bounds)"
   ]
  },
  {
   "cell_type": "markdown",
   "metadata": {},
   "source": [
    "<br>\n",
    "&nbsp;"
   ]
  },
  {
   "cell_type": "markdown",
   "metadata": {},
   "source": [
    "### Learner1D"
   ]
  },
  {
   "cell_type": "markdown",
   "metadata": {},
   "source": [
    "Before going into the AverageLearner1D, let us look at the results of a Learner1D sampling the function without noise. Note that we are using the triangle loss."
   ]
  },
  {
   "cell_type": "code",
   "execution_count": null,
   "metadata": {},
   "outputs": [],
   "source": [
    "learner1 = adaptive.Learner1D(\n",
    "    partial(my_fun, sigma=0), bounds=bounds, loss_per_interval=triangle_loss\n",
    ")\n",
    "aux.run_N(learner1, 25)\n",
    "aux.plot_learner(learner1, Nfun=200)"
   ]
  },
  {
   "cell_type": "markdown",
   "metadata": {},
   "source": [
    "<br>\n",
    "&nbsp;"
   ]
  },
  {
   "cell_type": "markdown",
   "metadata": {},
   "source": [
    "### AverageLearner1D"
   ]
  },
  {
   "cell_type": "markdown",
   "metadata": {},
   "source": [
    "The behavior of the AverageLearner1D is governed by several parameters:\n",
    "\n",
    " - `loss_per_interval`: loss function (same as in the Learner1D). In our example we use the triangle loss.\n",
    "<br>\n",
    "&nbsp;\n",
    " - `delta`: __this parameter is the most relevant and controls the resampling condition__. A point $x_i$ is resampled if $\\Delta g_i > $ `delta` $\\cdot\\min(d_i,d_{i+1})$, where $d_i = \\sqrt{(x_{i+1}-x_i)^2 + (y_{i+1}-y_i)^2}$ and $\\Delta g_i$ is the uncertainty in the estimate of the mean at $x_i$. Large values of `delta` favor the \"exploration\" behavior, although this can make the learner to sample noise (in any case, we strongly recommend `delta` $\\leq1$).\n",
    "On the contrary, small values favor an \"exploitation\" behavior, leading the learner to thoroughly resample existing points. In the documentation, we give bounds for the optimal value of `delta`. In general, the optimal value is around `delta` $\\sim 0.1-0.5$, which we will use in our example.\n",
    "<br>\n",
    "&nbsp;\n",
    " - `alpha`: the uncertainty of each point ($\\Delta g_i$) is estimated as half of the size of the $P\\%$ interval of confidence on the estimate of the mean, where $P=(1-2\\cdot$ `alpha` $)\\cdot100$. The recommended values for `alpha` are $2.5\\%-0.05\\%$. We generally employ `alpha` $=0.5\\%$.\n",
    "<br>\n",
    "&nbsp;\n",
    " - `neighbor_sampling`: each new point is actually sampled $n_\\text{new}=\\max($ `min_samples` , `neighbor_sampling`$\\cdot n_\\text{neigh})$ times, where $n_\\text{neigh}$ is the average number of samples of the two neighboring points. Moreover, we strongly recommend `neighbor_sampling` $\\in [0,1]$ to avoid oversampling (values close to 1, e.g. above 0.7, can also lead to oversampling at some points). In this example we use `neighbor_sampling` $=0.5$.\n",
    "<br>\n",
    "&nbsp;\n",
    " - `min_samples`: minimum number of times that each new point is initially sampled. This parameter is important to prevent the learner from sampling noise in case we accidentally set a too large value of `delta`. However, one must keep in mind that using an excessively large value for `min_samples` can harm the efficiency of the learner. If we estimate that we will require more than a thousand samples per point, we could set `min_samples` $=500$. \n",
    "In our example, we are not sure how many samples per point we will need, so we choose a safe value: `min_samples` $=50$.\n",
    "<br>\n",
    "&nbsp;\n",
    " - `max_samples`: maximum number of samples at each point. If a point has been sampled `max_samples` times, it will never be sampled again. In case we set a too small `delta`, this prevents the \"exploitation\" to drastically dominate over the \"exploration\" behavior. We will use `max_samples` $=3000$ in our example.\n",
    "<br>\n",
    "&nbsp;\n",
    " - `min_Delta_g`: minimum uncertainty at each point. If $\\Delta g_i<$ `min_Delta_g`, $x_i$ will not be sampled again. This parameter has the same goal as `max_samples`: in case we set a too small `delta`, it prevents the \"exploitation\" to drastically dominate over the \"exploration\" behavior. In our example, we do not require any precision beyond $10^{-3}$, so we choose `min_Delta_g` $=10^{-3}$.\n",
    " "
   ]
  },
  {
   "cell_type": "code",
   "execution_count": null,
   "metadata": {},
   "outputs": [],
   "source": [
    "# Learner parameters\n",
    "loss_per_interval = triangle_loss\n",
    "strategy = 5\n",
    "alpha = 0.005\n",
    "delta = 0.5\n",
    "min_samples = 50\n",
    "max_samples = 3000\n",
    "min_Delta_g = 0.001\n",
    "neighbor_sampling = 0.5\n",
    "\n",
    "# Function\n",
    "fun = partial(my_fun, sigma=sigma)\n",
    "\n",
    "# Other parameters\n",
    "randomseed = 2\n",
    "\n",
    "## -----------------------------------\n",
    "\n",
    "# Initialize learner\n",
    "learner = adaptive.AverageLearner1D(\n",
    "    fun,\n",
    "    bounds=bounds,\n",
    "    loss_per_interval=loss_per_interval,\n",
    "    delta=delta,\n",
    "    alpha=alpha,\n",
    "    min_samples=min_samples,\n",
    "    neighbor_sampling=neighbor_sampling,\n",
    "    max_samples=max_samples,\n",
    "    min_Delta_g=min_Delta_g,\n",
    ")"
   ]
  },
  {
   "cell_type": "markdown",
   "metadata": {},
   "source": [
    "<br>\n",
    "&nbsp;\n",
    "\n",
    "Next, we run the learner for $N=15000$ samples ($n$ is the total number of points):"
   ]
  },
  {
   "cell_type": "code",
   "execution_count": null,
   "metadata": {},
   "outputs": [],
   "source": [
    "# Set random seed\n",
    "random.seed(randomseed)\n",
    "np.random.seed(randomseed)\n",
    "\n",
    "# Run and plot in real-time\n",
    "aux.simple_liveplot(learner, N_frame=500, goal=lambda l: l.total_samples >= 15000)\n",
    "\n",
    "# Alternative goal using the number of points n\n",
    "# aux.simple_liveplot(learner, N_frame = 500, goal = lambda l: len(l.data)>=25)"
   ]
  },
  {
   "cell_type": "markdown",
   "metadata": {},
   "source": [
    "<br>\n",
    "&nbsp;"
   ]
  },
  {
   "cell_type": "markdown",
   "metadata": {},
   "source": [
    "### Running in parallel"
   ]
  },
  {
   "cell_type": "markdown",
   "metadata": {},
   "source": [
    "The AverageLearner1D can also be run in parallel for computational speed-up. The way to do this is the same as with the Learner1D. \n",
    "\n",
    "Note that we use the AverageLearner1D_parallel, which is the parallelized version of the AverageLearner1D. We kept both types of learner since they were being tested simultaneously. In the final version, AverageLearner1D_parallel will become the only AverageLearner1D."
   ]
  },
  {
   "cell_type": "code",
   "execution_count": null,
   "metadata": {},
   "outputs": [],
   "source": [
    "# Initialize learner\n",
    "learner = adaptive.AverageLearner1D(\n",
    "    fun,\n",
    "    bounds=bounds,\n",
    "    loss_per_interval=loss_per_interval,\n",
    "    delta=delta,\n",
    "    alpha=alpha,\n",
    "    min_samples=min_samples,\n",
    "    neighbor_sampling=neighbor_sampling,\n",
    "    max_samples=max_samples,\n",
    "    min_Delta_g=min_Delta_g,\n",
    ")\n",
    "\n",
    "# Set random seed\n",
    "random.seed(randomseed)\n",
    "np.random.seed(randomseed)"
   ]
  },
  {
   "cell_type": "code",
   "execution_count": null,
   "metadata": {},
   "outputs": [],
   "source": [
    "# Run IN PARALLEL\n",
    "runner = adaptive.Runner(learner, goal=lambda l: l.total_samples >= 15000)\n",
    "runner.live_info()\n",
    "runner.live_plot(update_interval=0.1)"
   ]
  },
  {
   "cell_type": "markdown",
   "metadata": {},
   "source": [
    "<br>\n",
    "&nbsp;\n",
    "<br>\n",
    "&nbsp;\n",
    "<br>\n",
    "&nbsp;"
   ]
  }
 ],
 "metadata": {
  "kernelspec": {
   "display_name": "Python 3",
   "language": "python",
   "name": "python3"
  },
  "language_info": {
   "codemirror_mode": {
    "name": "ipython",
    "version": 3
   },
   "file_extension": ".py",
   "mimetype": "text/x-python",
   "name": "python",
   "nbconvert_exporter": "python",
   "pygments_lexer": "ipython3",
   "version": "3.7.3"
  }
 },
 "nbformat": 4,
 "nbformat_minor": 4
}
