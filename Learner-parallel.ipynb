{
 "cells": [
  {
   "cell_type": "markdown",
   "metadata": {},
   "source": [
    "# Adaptive"
   ]
  },
  {
   "cell_type": "code",
   "execution_count": null,
   "metadata": {
    "collapsed": false
   },
   "outputs": [],
   "source": [
    "import holoviews as hv\n",
    "hv.notebook_extension()"
   ]
  },
  {
   "cell_type": "code",
   "execution_count": null,
   "metadata": {
    "collapsed": false
   },
   "outputs": [],
   "source": [
    "import numpy as np\n",
    "import learner1D\n",
    "from time import sleep\n",
    "from random import randint\n",
    "from functools import partial\n",
    "import importlib\n",
    "importlib.reload(learner1D)\n",
    "\n",
    "def func(x, wait=False):\n",
    "    \"\"\"Function with a sharp peak on a smooth background\"\"\"\n",
    "    x = np.asarray(x)\n",
    "    a = 0.001\n",
    "    if wait:\n",
    "        sleep(np.random.rand(1))\n",
    "    return x + a**2/(a**2 + x**2) #+ np.random.rand(1)\n",
    "\n",
    "def plot(learner, nan_is_zero=False, show_interp=False):\n",
    "    if show_interp:\n",
    "        learner.interpolate()\n",
    "        d = learner.interp_data\n",
    "    elif nan_is_zero:\n",
    "        y = np.nan_to_num(y)\n",
    "    else:\n",
    "        d = learner.data\n",
    "\n",
    "    xy = [(k, d[k]) for k in sorted(d)]\n",
    "    x, y  = np.array(xy, dtype=float).T\n",
    "\n",
    "    return hv.Scatter((x, y))"
   ]
  },
  {
   "cell_type": "code",
   "execution_count": null,
   "metadata": {
    "collapsed": false
   },
   "outputs": [],
   "source": [
    "xs = np.linspace(-1, 1, 10)\n",
    "ys = func(xs)\n",
    "learner = learner1D.Learner1D(xs, ys)\n",
    "plot(learner)[-1.1:1.1, -1.1:1.1]"
   ]
  },
  {
   "cell_type": "code",
   "execution_count": null,
   "metadata": {
    "collapsed": false
   },
   "outputs": [],
   "source": [
    "xs = learner.choose_points(n=10)\n",
    "ys = func(xs)\n",
    "learner.add_data(xs, ys)\n",
    "plot(learner)[-1.1:1.1, -1.1:1.1]"
   ]
  },
  {
   "cell_type": "code",
   "execution_count": null,
   "metadata": {
    "collapsed": false
   },
   "outputs": [],
   "source": [
    "xs = learner.choose_points(n=30)\n",
    "# Do not calculate ys here.\n",
    "plot(learner, show_interp=True)[-1.1:1.1, -1.1:1.1]"
   ]
  },
  {
   "cell_type": "markdown",
   "metadata": {},
   "source": [
    "# Parallel"
   ]
  },
  {
   "cell_type": "code",
   "execution_count": null,
   "metadata": {
    "collapsed": false
   },
   "outputs": [],
   "source": [
    "from dask import delayed\n",
    "from distributed import Client\n",
    "client = Client()\n",
    "num_cores = sum(client.ncores().values())"
   ]
  },
  {
   "cell_type": "code",
   "execution_count": null,
   "metadata": {
    "collapsed": false
   },
   "outputs": [],
   "source": [
    "func2 = partial(func, wait=True)\n",
    "learner = learner1D.Learner1D(client=client)\n",
    "learner.initialize(func2, -1, 1)\n",
    "\n",
    "while True:\n",
    "    if len(learner.unfinished) < num_cores:\n",
    "        xs = learner.choose_points(n=1)\n",
    "        learner.map(func, xs)\n",
    "    else:\n",
    "        learner.get_results()\n",
    "    if len(learner.data) > 50: # bad criterion\n",
    "        break"
   ]
  },
  {
   "cell_type": "code",
   "execution_count": null,
   "metadata": {
    "collapsed": false
   },
   "outputs": [],
   "source": [
    "plot(learner)"
   ]
  }
 ],
 "metadata": {
  "anaconda-cloud": {},
  "kernelspec": {
   "display_name": "Python [conda env:py36]",
   "language": "python",
   "name": "conda-env-py36-py"
  },
  "language_info": {
   "codemirror_mode": {
    "name": "ipython",
    "version": 3
   },
   "file_extension": ".py",
   "mimetype": "text/x-python",
   "name": "python",
   "nbconvert_exporter": "python",
   "pygments_lexer": "ipython3",
   "version": "3.6.0"
  }
 },
 "nbformat": 4,
 "nbformat_minor": 1
}
