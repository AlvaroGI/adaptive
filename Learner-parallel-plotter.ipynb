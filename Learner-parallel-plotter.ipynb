{
 "cells": [
  {
   "cell_type": "markdown",
   "metadata": {},
   "source": [
    "# Adaptive"
   ]
  },
  {
   "cell_type": "code",
   "execution_count": null,
   "metadata": {},
   "outputs": [],
   "source": [
    "import adaptive\n",
    "import numpy as np\n",
    "adaptive.notebook_extension()\n",
    "\n",
    "def func(x, wait=True):\n",
    "    \"\"\"Function with a sharp peak on a smooth background\"\"\"\n",
    "    import numpy as np\n",
    "    from time import sleep\n",
    "    from random import randint\n",
    "\n",
    "    x = np.asarray(x)\n",
    "    a = 0.001\n",
    "    if wait:\n",
    "        sleep(np.random.randint(1, 3))\n",
    "    return x + a**2/(a**2 + (x)**2)"
   ]
  },
  {
   "cell_type": "markdown",
   "metadata": {
    "collapsed": true
   },
   "source": [
    "## Local Process Pool (default)"
   ]
  },
  {
   "cell_type": "code",
   "execution_count": null,
   "metadata": {},
   "outputs": [],
   "source": [
    "import concurrent.futures as concurrent\n",
    "# Initialize the learner\n",
    "learner = adaptive.learner.Learner1D(func, bounds=(-1, 1))\n",
    "\n",
    "# Next two lines not needed, but just as example that it still works\n",
    "learner.add_point(-1, func(-1))\n",
    "learner.add_point(1, func(1))\n",
    "\n",
    "runner = adaptive.Runner(learner, concurrent.ProcessPoolExecutor(48), goal=lambda l: l.loss(real=True) < 0.01)\n",
    "adaptive.live_plot(runner)"
   ]
  },
  {
   "cell_type": "markdown",
   "metadata": {
    "collapsed": true
   },
   "source": [
    "## ipyparallel"
   ]
  },
  {
   "cell_type": "code",
   "execution_count": null,
   "metadata": {
    "collapsed": true
   },
   "outputs": [],
   "source": [
    "import ipyparallel\n",
    "\n",
    "client = ipyparallel.Client()\n",
    "\n",
    "# Initialize the learner\n",
    "learner = adaptive.learner.Learner1D(func)\n",
    "runner = adaptive.Runner(learner, client, goal=lambda l: l.loss() < 0.1)\n",
    "adaptive.live_plot(runner)"
   ]
  }
 ],
 "metadata": {
  "anaconda-cloud": {},
  "kernelspec": {
   "display_name": "Python 3",
   "language": "python",
   "name": "python3"
  },
  "language_info": {
   "codemirror_mode": {
    "name": "ipython",
    "version": 3
   },
   "file_extension": ".py",
   "mimetype": "text/x-python",
   "name": "python",
   "nbconvert_exporter": "python",
   "pygments_lexer": "ipython3",
   "version": "3.6.2"
  }
 },
 "nbformat": 4,
 "nbformat_minor": 1
}
