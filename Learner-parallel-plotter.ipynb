{
 "cells": [
  {
   "cell_type": "markdown",
   "metadata": {
    "deletable": true,
    "editable": true
   },
   "source": [
    "# Adaptive"
   ]
  },
  {
   "cell_type": "code",
   "execution_count": null,
   "metadata": {
    "collapsed": false,
    "deletable": true,
    "editable": true
   },
   "outputs": [],
   "source": [
    "import adaptive\n",
    "\n",
    "adaptive.notebook_extension()"
   ]
  },
  {
   "cell_type": "code",
   "execution_count": null,
   "metadata": {
    "collapsed": true,
    "deletable": true,
    "editable": true
   },
   "outputs": [],
   "source": [
    "def func(x, wait=True):\n",
    "    \"\"\"Function with a sharp peak on a smooth background\"\"\"\n",
    "    import numpy as np\n",
    "    from time import sleep\n",
    "    from random import randint\n",
    "\n",
    "    x = np.asarray(x)\n",
    "    a = 0.001\n",
    "    if wait:\n",
    "        sleep(np.random.randint(1, 3))\n",
    "    return x + a**2/(a**2 + (x)**2) #+ np.random.rand(1)"
   ]
  },
  {
   "cell_type": "markdown",
   "metadata": {
    "collapsed": true,
    "deletable": true,
    "editable": true
   },
   "source": [
    "## Local Process Pool (default)"
   ]
  },
  {
   "cell_type": "code",
   "execution_count": null,
   "metadata": {
    "collapsed": false,
    "deletable": true,
    "editable": true
   },
   "outputs": [],
   "source": [
    "# Initialize the learner\n",
    "learner = adaptive.learner.Learner1D(func)\n",
    "learner.add_point(-1, func(-1))\n",
    "learner.add_point(1, func(1))\n",
    "runner = adaptive.Runner(learner, goal=lambda l: l.loss() < 0.1)\n",
    "adaptive.live_plot(runner)"
   ]
  },
  {
   "cell_type": "markdown",
   "metadata": {
    "collapsed": true,
    "deletable": true,
    "editable": true
   },
   "source": [
    "## ipyparallel"
   ]
  },
  {
   "cell_type": "code",
   "execution_count": null,
   "metadata": {
    "collapsed": false,
    "deletable": true,
    "editable": true
   },
   "outputs": [],
   "source": [
    "import ipyparallel\n",
    "\n",
    "client = ipyparallel.Client()\n",
    "\n",
    "# Initialize the learner\n",
    "learner = adaptive.learner.Learner1D(func)\n",
    "learner.add_point(-1, func(-1))\n",
    "learner.add_point(1, func(1))\n",
    "\n",
    "runner = adaptive.Runner(learner, client, goal=lambda l: l.loss() < 0.1)\n",
    "adaptive.live_plot(runner)"
   ]
  }
 ],
 "metadata": {
  "anaconda-cloud": {},
  "kernelspec": {
   "display_name": "adaptive",
   "language": "python",
   "name": "adaptive"
  },
  "language_info": {
   "codemirror_mode": {
    "name": "ipython",
    "version": 3
   },
   "file_extension": ".py",
   "mimetype": "text/x-python",
   "name": "python",
   "nbconvert_exporter": "python",
   "pygments_lexer": "ipython3",
   "version": "3.6.1"
  }
 },
 "nbformat": 4,
 "nbformat_minor": 1
}
