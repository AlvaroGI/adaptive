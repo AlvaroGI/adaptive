{
 "cells": [
  {
   "cell_type": "markdown",
   "metadata": {},
   "source": [
    "# Adaptive"
   ]
  },
  {
   "cell_type": "code",
   "execution_count": null,
   "metadata": {},
   "outputs": [],
   "source": [
    "import holoviews as hv\n",
    "from holoviews.streams import Stream, param\n",
    "hv.notebook_extension('bokeh')"
   ]
  },
  {
   "cell_type": "code",
   "execution_count": null,
   "metadata": {},
   "outputs": [],
   "source": [
    "import numpy as np\n",
    "import learner\n",
    "from time import sleep\n",
    "from random import randint\n",
    "from functools import partial\n",
    "import importlib\n",
    "importlib.reload(learner)"
   ]
  },
  {
   "cell_type": "code",
   "execution_count": null,
   "metadata": {},
   "outputs": [],
   "source": [
    "def func(x, wait=True):\n",
    "    x = np.asarray(x)\n",
    "    a = 10\n",
    "    if wait:\n",
    "        sleep(randint(1, 3))\n",
    "    return np.sin(x) + 0.0001/(0.0001 + x**2)"
   ]
  },
  {
   "cell_type": "markdown",
   "metadata": {},
   "source": [
    "# Parallel"
   ]
  },
  {
   "cell_type": "code",
   "execution_count": null,
   "metadata": {},
   "outputs": [],
   "source": [
    "import tornado\n",
    "from distributed import Client\n",
    "\n",
    "io = tornado.ioloop.IOLoop.current()\n",
    "\n",
    "# Initialize the learner\n",
    "learner1d = learner.Learner1D()\n",
    "learner1d.add_point(-1, func(-1))\n",
    "learner1d.add_point(1, func(1))"
   ]
  },
  {
   "cell_type": "code",
   "execution_count": null,
   "metadata": {},
   "outputs": [],
   "source": [
    "async def dask_run(learner):\n",
    "    async with Client(asynchronous=True) as client:\n",
    "        await learner.run(func, client, learner1d ,goal=lambda learner1d: learner1d.loss() < 0.000001)\n",
    "\n",
    "def plot(data):\n",
    "        xy = [(k, v) for k, v in sorted(data.items()) if v is not None]\n",
    "        if not xy:\n",
    "            return hv.Scatter([])\n",
    "        x, y  = np.array(xy, dtype=float).T\n",
    "        return hv.Scatter((x, y))"
   ]
  },
  {
   "cell_type": "code",
   "execution_count": null,
   "metadata": {},
   "outputs": [],
   "source": [
    "data_stream = Stream.define('data', data=param.ObjectSelector(default=dict()))\n",
    "dm = hv.DynamicMap(plot, streams=[data_stream()])\n",
    "dm"
   ]
  },
  {
   "cell_type": "code",
   "execution_count": null,
   "metadata": {},
   "outputs": [],
   "source": [
    "pc = tornado.ioloop.PeriodicCallback(lambda: dm.event(data=learner1d.data), 100)\n",
    "pc.start()\n",
    "io.add_callback(dask_run, learner)"
   ]
  },
  {
   "cell_type": "code",
   "execution_count": null,
   "metadata": {},
   "outputs": [],
   "source": []
  }
 ],
 "metadata": {
  "anaconda-cloud": {},
  "kernelspec": {
   "display_name": "Python 3",
   "language": "python",
   "name": "python3"
  },
  "language_info": {
   "codemirror_mode": {
    "name": "ipython",
    "version": 3
   },
   "file_extension": ".py",
   "mimetype": "text/x-python",
   "name": "python",
   "nbconvert_exporter": "python",
   "pygments_lexer": "ipython3",
   "version": "3.6.2"
  }
 },
 "nbformat": 4,
 "nbformat_minor": 1
}
