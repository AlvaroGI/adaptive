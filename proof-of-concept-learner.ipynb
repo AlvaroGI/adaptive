{
 "cells": [
  {
   "cell_type": "code",
   "execution_count": null,
   "metadata": {},
   "outputs": [],
   "source": [
    "import random\n",
    "\n",
    "from sortedcontainers import SortedList\n",
    "import adaptive\n",
    "from adaptive.learner.new_learnerND import LearnerND\n",
    "\n",
    "adaptive.notebook_extension()"
   ]
  },
  {
   "cell_type": "code",
   "execution_count": null,
   "metadata": {},
   "outputs": [],
   "source": [
    "offset = random.uniform(-0.5, 0.5)\n",
    "\n",
    "def peak(x, offset=offset):\n",
    "    a = 0.02\n",
    "    return x + a**2 / (a**2 + (x - offset)**2)\n",
    "\n",
    "def peak2(x, offset=offset):\n",
    "    return peak(x[0], offset=offset)"
   ]
  },
  {
   "cell_type": "code",
   "execution_count": null,
   "metadata": {},
   "outputs": [],
   "source": [
    "\\learner = adaptive.Learner1D(peak, (-1, 1))\n",
    "adaptive.runner.simple(learner, goal=lambda l: len(l.data) > 50)"
   ]
  },
  {
   "cell_type": "code",
   "execution_count": null,
   "metadata": {},
   "outputs": [],
   "source": [
    "learner2 = LearnerND(peak2, [(-1, 1)])\n",
    "adaptive.runner.simple(learner2, goal=lambda l: len(l.data) > 50)"
   ]
  },
  {
   "cell_type": "code",
   "execution_count": null,
   "metadata": {},
   "outputs": [],
   "source": [
    "learner.plot() + learner2.plot()"
   ]
  },
  {
   "cell_type": "code",
   "execution_count": null,
   "metadata": {},
   "outputs": [],
   "source": [
    "%time adaptive.runner.simple(learner, goal=lambda l: len(l.data) > 10000)"
   ]
  },
  {
   "cell_type": "code",
   "execution_count": null,
   "metadata": {},
   "outputs": [],
   "source": [
    "%time adaptive.runner.simple(learner2, goal=lambda l: len(l.data) > 10000)"
   ]
  }
 ],
 "metadata": {
  "kernelspec": {
   "display_name": "adaptive",
   "language": "python",
   "name": "adaptive"
  },
  "language_info": {
   "codemirror_mode": {
    "name": "ipython",
    "version": 3
   },
   "file_extension": ".py",
   "mimetype": "text/x-python",
   "name": "python",
   "nbconvert_exporter": "python",
   "pygments_lexer": "ipython3",
   "version": "3.6.7"
  }
 },
 "nbformat": 4,
 "nbformat_minor": 2
}
